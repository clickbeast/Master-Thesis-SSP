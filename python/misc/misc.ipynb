{
 "cells": [
  {
   "cell_type": "code",
   "execution_count": 4,
   "metadata": {
    "collapsed": true,
    "pycharm": {
     "is_executing": false
    }
   },
   "outputs": [
    {
     "data": {
      "text/plain": "   0  1  2  3  4  5  6  7  8  9\n0  0  1  0  0  0  0  0  0  0  0\n1  1  1  1  0  1  1  1  0  0  0\n2  0  1  1  1  1  1  0  0  0  0\n3  0  0  1  1  0  0  1  1  1  0\n4  0  0  0  0  1  1  1  0  0  0\n5  1  0  0  0  0  0  0  1  0  0\n6  0  0  1  1  1  0  0  0  0  1\n7  0  0  0  1  0  0  0  1  1  1\n8  0  1  0  0  0  1  1  1  1  1\n9  0  0  0  0  0  0  0  0  1  1",
      "text/html": "<div>\n<style scoped>\n    .dataframe tbody tr th:only-of-type {\n        vertical-align: middle;\n    }\n\n    .dataframe tbody tr th {\n        vertical-align: top;\n    }\n\n    .dataframe thead th {\n        text-align: right;\n    }\n</style>\n<table border=\"1\" class=\"dataframe\">\n  <thead>\n    <tr style=\"text-align: right;\">\n      <th></th>\n      <th>0</th>\n      <th>1</th>\n      <th>2</th>\n      <th>3</th>\n      <th>4</th>\n      <th>5</th>\n      <th>6</th>\n      <th>7</th>\n      <th>8</th>\n      <th>9</th>\n    </tr>\n  </thead>\n  <tbody>\n    <tr>\n      <th>0</th>\n      <td>0</td>\n      <td>1</td>\n      <td>0</td>\n      <td>0</td>\n      <td>0</td>\n      <td>0</td>\n      <td>0</td>\n      <td>0</td>\n      <td>0</td>\n      <td>0</td>\n    </tr>\n    <tr>\n      <th>1</th>\n      <td>1</td>\n      <td>1</td>\n      <td>1</td>\n      <td>0</td>\n      <td>1</td>\n      <td>1</td>\n      <td>1</td>\n      <td>0</td>\n      <td>0</td>\n      <td>0</td>\n    </tr>\n    <tr>\n      <th>2</th>\n      <td>0</td>\n      <td>1</td>\n      <td>1</td>\n      <td>1</td>\n      <td>1</td>\n      <td>1</td>\n      <td>0</td>\n      <td>0</td>\n      <td>0</td>\n      <td>0</td>\n    </tr>\n    <tr>\n      <th>3</th>\n      <td>0</td>\n      <td>0</td>\n      <td>1</td>\n      <td>1</td>\n      <td>0</td>\n      <td>0</td>\n      <td>1</td>\n      <td>1</td>\n      <td>1</td>\n      <td>0</td>\n    </tr>\n    <tr>\n      <th>4</th>\n      <td>0</td>\n      <td>0</td>\n      <td>0</td>\n      <td>0</td>\n      <td>1</td>\n      <td>1</td>\n      <td>1</td>\n      <td>0</td>\n      <td>0</td>\n      <td>0</td>\n    </tr>\n    <tr>\n      <th>5</th>\n      <td>1</td>\n      <td>0</td>\n      <td>0</td>\n      <td>0</td>\n      <td>0</td>\n      <td>0</td>\n      <td>0</td>\n      <td>1</td>\n      <td>0</td>\n      <td>0</td>\n    </tr>\n    <tr>\n      <th>6</th>\n      <td>0</td>\n      <td>0</td>\n      <td>1</td>\n      <td>1</td>\n      <td>1</td>\n      <td>0</td>\n      <td>0</td>\n      <td>0</td>\n      <td>0</td>\n      <td>1</td>\n    </tr>\n    <tr>\n      <th>7</th>\n      <td>0</td>\n      <td>0</td>\n      <td>0</td>\n      <td>1</td>\n      <td>0</td>\n      <td>0</td>\n      <td>0</td>\n      <td>1</td>\n      <td>1</td>\n      <td>1</td>\n    </tr>\n    <tr>\n      <th>8</th>\n      <td>0</td>\n      <td>1</td>\n      <td>0</td>\n      <td>0</td>\n      <td>0</td>\n      <td>1</td>\n      <td>1</td>\n      <td>1</td>\n      <td>1</td>\n      <td>1</td>\n    </tr>\n    <tr>\n      <th>9</th>\n      <td>0</td>\n      <td>0</td>\n      <td>0</td>\n      <td>0</td>\n      <td>0</td>\n      <td>0</td>\n      <td>0</td>\n      <td>0</td>\n      <td>1</td>\n      <td>1</td>\n    </tr>\n  </tbody>\n</table>\n</div>"
     },
     "metadata": {},
     "output_type": "execute_result",
     "execution_count": 4
    }
   ],
   "source": [
    "\n",
    "import pandas as pd\n",
    "import numpy\n",
    "import json\n",
    "\n",
    "\n",
    "\n",
    "path = \"/Users/simonvermeir/Documents/industrial-engineering/SchoolCurrent/MasterProef/Master-Thesis-SSP/data\" \\\n",
    "       \"/instances/crama/cram_10_10_4_1/reference_solution.csv\"\n",
    "df = pd.read_csv(path, header=None)\n",
    "df"
   ]
  },
  {
   "cell_type": "code",
   "execution_count": 5,
   "outputs": [
    {
     "data": {
      "text/plain": "   0  1  2  3  4  5  6  7  8  9\n0  0  1  0  0  0  1  0  0  0  0\n1  1  1  1  0  0  0  0  0  1  0\n2  0  1  1  1  0  0  1  0  0  0\n3  0  0  1  1  0  0  1  1  0  0\n4  0  1  1  0  1  0  1  0  0  0\n5  0  1  1  0  1  0  0  0  1  0\n6  0  1  0  1  1  0  0  0  1  0\n7  0  0  0  1  0  1  0  1  1  0\n8  0  0  0  1  0  0  0  1  1  1\n9  0  0  0  0  0  0  1  1  1  1",
      "text/html": "<div>\n<style scoped>\n    .dataframe tbody tr th:only-of-type {\n        vertical-align: middle;\n    }\n\n    .dataframe tbody tr th {\n        vertical-align: top;\n    }\n\n    .dataframe thead th {\n        text-align: right;\n    }\n</style>\n<table border=\"1\" class=\"dataframe\">\n  <thead>\n    <tr style=\"text-align: right;\">\n      <th></th>\n      <th>0</th>\n      <th>1</th>\n      <th>2</th>\n      <th>3</th>\n      <th>4</th>\n      <th>5</th>\n      <th>6</th>\n      <th>7</th>\n      <th>8</th>\n      <th>9</th>\n    </tr>\n  </thead>\n  <tbody>\n    <tr>\n      <th>0</th>\n      <td>0</td>\n      <td>1</td>\n      <td>0</td>\n      <td>0</td>\n      <td>0</td>\n      <td>1</td>\n      <td>0</td>\n      <td>0</td>\n      <td>0</td>\n      <td>0</td>\n    </tr>\n    <tr>\n      <th>1</th>\n      <td>1</td>\n      <td>1</td>\n      <td>1</td>\n      <td>0</td>\n      <td>0</td>\n      <td>0</td>\n      <td>0</td>\n      <td>0</td>\n      <td>1</td>\n      <td>0</td>\n    </tr>\n    <tr>\n      <th>2</th>\n      <td>0</td>\n      <td>1</td>\n      <td>1</td>\n      <td>1</td>\n      <td>0</td>\n      <td>0</td>\n      <td>1</td>\n      <td>0</td>\n      <td>0</td>\n      <td>0</td>\n    </tr>\n    <tr>\n      <th>3</th>\n      <td>0</td>\n      <td>0</td>\n      <td>1</td>\n      <td>1</td>\n      <td>0</td>\n      <td>0</td>\n      <td>1</td>\n      <td>1</td>\n      <td>0</td>\n      <td>0</td>\n    </tr>\n    <tr>\n      <th>4</th>\n      <td>0</td>\n      <td>1</td>\n      <td>1</td>\n      <td>0</td>\n      <td>1</td>\n      <td>0</td>\n      <td>1</td>\n      <td>0</td>\n      <td>0</td>\n      <td>0</td>\n    </tr>\n    <tr>\n      <th>5</th>\n      <td>0</td>\n      <td>1</td>\n      <td>1</td>\n      <td>0</td>\n      <td>1</td>\n      <td>0</td>\n      <td>0</td>\n      <td>0</td>\n      <td>1</td>\n      <td>0</td>\n    </tr>\n    <tr>\n      <th>6</th>\n      <td>0</td>\n      <td>1</td>\n      <td>0</td>\n      <td>1</td>\n      <td>1</td>\n      <td>0</td>\n      <td>0</td>\n      <td>0</td>\n      <td>1</td>\n      <td>0</td>\n    </tr>\n    <tr>\n      <th>7</th>\n      <td>0</td>\n      <td>0</td>\n      <td>0</td>\n      <td>1</td>\n      <td>0</td>\n      <td>1</td>\n      <td>0</td>\n      <td>1</td>\n      <td>1</td>\n      <td>0</td>\n    </tr>\n    <tr>\n      <th>8</th>\n      <td>0</td>\n      <td>0</td>\n      <td>0</td>\n      <td>1</td>\n      <td>0</td>\n      <td>0</td>\n      <td>0</td>\n      <td>1</td>\n      <td>1</td>\n      <td>1</td>\n    </tr>\n    <tr>\n      <th>9</th>\n      <td>0</td>\n      <td>0</td>\n      <td>0</td>\n      <td>0</td>\n      <td>0</td>\n      <td>0</td>\n      <td>1</td>\n      <td>1</td>\n      <td>1</td>\n      <td>1</td>\n    </tr>\n  </tbody>\n</table>\n</div>"
     },
     "metadata": {},
     "output_type": "execute_result",
     "execution_count": 5
    }
   ],
   "source": [
    "dft = df.T\n",
    "dft\n"
   ],
   "metadata": {
    "collapsed": false,
    "pycharm": {
     "name": "#%%\n",
     "is_executing": false
    }
   }
  },
  {
   "cell_type": "code",
   "execution_count": 17,
   "outputs": [
    {
     "data": {
      "text/plain": "array([[0, 1, 0, 0, 0, 0, 0, 0, 0, 0],\n       [1, 1, 1, 0, 1, 1, 1, 0, 0, 0],\n       [0, 1, 1, 1, 1, 1, 0, 0, 0, 0],\n       [0, 0, 1, 1, 0, 0, 1, 1, 1, 0],\n       [0, 0, 0, 0, 1, 1, 1, 0, 0, 0],\n       [1, 0, 0, 0, 0, 0, 0, 1, 0, 0],\n       [0, 0, 1, 1, 1, 0, 0, 0, 0, 1],\n       [0, 0, 0, 1, 0, 0, 0, 1, 1, 1],\n       [0, 1, 0, 0, 0, 1, 1, 1, 1, 1],\n       [0, 0, 0, 0, 0, 0, 0, 0, 1, 1]])"
     },
     "metadata": {},
     "output_type": "execute_result",
     "execution_count": 17
    }
   ],
   "source": [
    "df.values"
   ],
   "metadata": {
    "collapsed": false,
    "pycharm": {
     "name": "#%%\n",
     "is_executing": false
    }
   }
  },
  {
   "cell_type": "code",
   "execution_count": 18,
   "outputs": [
    {
     "data": {
      "text/plain": "array([[0, 1, 0, 0, 0, 1, 0, 0, 0, 0],\n       [1, 1, 1, 0, 0, 0, 0, 0, 1, 0],\n       [0, 1, 1, 1, 0, 0, 1, 0, 0, 0],\n       [0, 0, 1, 1, 0, 0, 1, 1, 0, 0],\n       [0, 1, 1, 0, 1, 0, 1, 0, 0, 0],\n       [0, 1, 1, 0, 1, 0, 0, 0, 1, 0],\n       [0, 1, 0, 1, 1, 0, 0, 0, 1, 0],\n       [0, 0, 0, 1, 0, 1, 0, 1, 1, 0],\n       [0, 0, 0, 1, 0, 0, 0, 1, 1, 1],\n       [0, 0, 0, 0, 0, 0, 1, 1, 1, 1]])"
     },
     "metadata": {},
     "output_type": "execute_result",
     "execution_count": 18
    }
   ],
   "source": [
    "dft.values"
   ],
   "metadata": {
    "collapsed": false,
    "pycharm": {
     "name": "#%%\n",
     "is_executing": false
    }
   }
  },
  {
   "cell_type": "code",
   "execution_count": 19,
   "outputs": [],
   "source": [
    "data = [[0, 1, 0, 0, 0, 0, 0, 0, 0, 0],\n",
    "              [1, 1, 1, 0, 1, 1, 1, 0, 0, 0],\n",
    "              [0, 1, 1, 1, 1, 1, 0, 0, 0, 0],\n",
    "              [0, 0, 1, 1, 0, 0, 1, 1, 1, 0],\n",
    "              [0, 0, 0, 0, 1, 1, 1, 0, 0, 0],\n",
    "              [1, 0, 0, 0, 0, 0, 0, 1, 0, 0],\n",
    "              [0, 0, 1, 1, 1, 0, 0, 0, 0, 1],\n",
    "              [0, 0, 0, 1, 0, 0, 0, 1, 1, 1],\n",
    "              [0, 1, 0, 0, 0, 1, 1, 1, 1, 1],\n",
    "              [0, 0, 0, 0, 0, 0, 0, 0, 1, 1]]\n",
    "\n",
    "\n",
    "dataT = [[0, 1, 0, 0, 0, 1, 0, 0, 0, 0],\n",
    "               [1, 1, 1, 0, 0, 0, 0, 0, 1, 0],\n",
    "               [0, 1, 1, 1, 0, 0, 1, 0, 0, 0],\n",
    "               [0, 0, 1, 1, 0, 0, 1, 1, 0, 0],\n",
    "               [0, 1, 1, 0, 1, 0, 1, 0, 0, 0],\n",
    "               [0, 1, 1, 0, 1, 0, 0, 0, 1, 0],\n",
    "               [0, 1, 0, 1, 1, 0, 0, 0, 1, 0],\n",
    "               [0, 0, 0, 1, 0, 1, 0, 1, 1, 0],\n",
    "               [0, 0, 0, 1, 0, 0, 0, 1, 1, 1],\n",
    "               [0, 0, 0, 0, 0, 0, 1, 1, 1, 1]]\n",
    "\n",
    "\n",
    "\n",
    "data2 = {\"result\":{\"cost\":-10,\"jobToolMatrix\":[[0, 1, 0, 0, 0, 0, 0, 0, 0, 0], [1, 1, 1, 0, 1, 1, 1, 0, 0, 0], [0, 1, 1, 1, 1, 1, 0, 0, 0, 0], [0, 0, 1, 1, 0, 0, 1, 1, 1, 0], [0, 0, 0, 0, 1, 1, 1, 0, 0, 0], [1, 0, 0, 0, 0, 0, 0, 1, 0, 0], [0, 0, 1, 1, 1, 0, 0, 0, 0, 1], [0, 0, 0, 1, 0, 0, 0, 1, 1, 1], [0, 1, 0, 0, 0, 1, 1, 1, 1, 1], [0, 0, 0, 0, 0, 0, 0, 0, 1, 1]],\"toolDistance\":[[1,1,1,2,4,7,2,3,1,8],[9,1,1,1,3,6,1,2,4,7],[8,1,1,1,2,5,2,1,3,6],[7,1,1,3,1,4,1,4,2,5],[6,1,1,2,1,3,5,3,1,4],[5,1,1,1,5,2,4,2,1,3],[4,4,4,1,4,1,3,1,1,2],[3,3,3,1,3,3,2,1,1,1],[2,2,2,1,2,2,1,1,1,2],[0,0,0,0,0,0,0,0,0,0]],\"sequence\":[0,1,2,3,4,5,6,7,8,9],\"jobPositions\":[0,1,2,3,4,5,6,7,8,9],\"switches\":[0,1,2,1,2,1,1,2,1,1],\"nSwitches\":12,\"nToolHops\":0,\"nKtnsToolHops\":0,\"type\":\"Initial\",\"penaltyCost\":12.4,\"toolDistanceCost\":-15.0,\"zeroBlockLength\":[[1,8],[3],[1,3],[2,2],[4,4],[6,2],[2,1,4],[3,3],[1,3],[8,1]],\"tieBreakingCost\":33.423452279612334},\"id\":2,\"timeRunning\":386,\"timeRemaining\":59856,\"magazineSize\":4,\"nTools\":10,\"nJobs\":10,\"jobToolMatrix\":[[0,1,0,0,0,1,0,0,0,0],[1,0,1,0,0,0,0,0,1,0],[0,0,0,1,0,0,1,0,0,0],[0,0,0,1,0,0,0,1,0,0],[0,1,1,0,1,0,1,0,0,0],[0,1,1,0,1,0,0,0,1,0],[0,1,0,1,0,0,0,0,1,0],[0,0,0,0,0,1,0,1,1,0],[0,0,0,1,0,0,0,0,1,1],[0,0,0,0,0,0,1,1,0,0]],\"sharedToolsMatrix\":[[[1,5],[],[],[],[1],[1],[1],[5],[],[]],[[],[0,2,8],[],[],[2],[2,8],[8],[8],[8],[]],[[],[],[3,6],[3],[6],[],[3],[],[3],[6]],[[],[],[3],[3,7],[],[],[3],[7],[3],[7]],[[1],[2],[6],[],[1,2,4,6],[1,2,4],[1],[],[],[6]],[[1],[2,8],[],[],[1,2,4],[1,2,4,8],[1,8],[8],[8],[]],[[1],[8],[3],[3],[1],[1,8],[1,3,8],[8],[3,8],[]],[[5],[8],[],[7],[],[8],[8],[5,7,8],[8],[7]],[[],[8],[3],[3],[],[8],[3,8],[8],[3,8,9],[]],[[],[],[6],[7],[6],[],[],[7],[],[6,7]]],\"switchesLbMatrix\":[[0,1,0,0,1,1,0,0,1,0],[1,0,1,1,2,1,1,1,1,1],[0,1,0,0,1,2,0,1,0,0],[0,1,0,0,2,2,0,0,0,0],[1,2,1,2,0,1,2,3,3,1],[1,1,2,2,1,0,1,2,2,2],[0,1,0,0,2,1,0,1,0,1],[0,1,1,0,3,2,1,0,1,0],[1,1,0,0,3,2,0,1,0,1],[0,1,0,0,1,2,1,0,1,0]],\"toolPairMatrix\":[[1,0,1,0,0,0,0,0,1,0],[0,4,2,1,2,1,1,0,2,0],[1,2,3,0,2,0,1,0,2,0],[0,1,0,4,0,0,1,1,2,1],[0,2,2,0,2,0,1,0,1,0],[0,1,0,0,0,2,0,1,1,0],[0,1,1,1,1,0,3,1,0,0],[0,0,0,1,0,1,1,3,1,0],[1,2,2,2,1,1,0,1,5,1],[0,0,0,1,0,0,0,0,1,1]],\"instance\":\"cram_10_10_4_1\"}"
   ],
   "metadata": {
    "collapsed": false,
    "pycharm": {
     "name": "#%%\n",
     "is_executing": false
    }
   }
  }
 ],
 "metadata": {
  "kernelspec": {
   "display_name": "Python 3",
   "language": "python",
   "name": "python3"
  },
  "language_info": {
   "codemirror_mode": {
    "name": "ipython",
    "version": 2
   },
   "file_extension": ".py",
   "mimetype": "text/x-python",
   "name": "python",
   "nbconvert_exporter": "python",
   "pygments_lexer": "ipython2",
   "version": "2.7.6"
  },
  "pycharm": {
   "stem_cell": {
    "cell_type": "raw",
    "source": [],
    "metadata": {
     "collapsed": false
    }
   }
  }
 },
 "nbformat": 4,
 "nbformat_minor": 0
}