{
 "cells": [
  {
   "cell_type": "code",
   "execution_count": 1,
   "metadata": {
    "pycharm": {
     "name": "#%%\n"
    }
   },
   "outputs": [
    {
     "data": {
      "text/plain": "           instance                                  run_type  run  n_jobs  \\\n0     yan_8_15_10_1  RR-MULTI-CROSS-BLOCK-favorCross-SA-TUNED    0       8   \n1     yan_8_15_10_2  RR-MULTI-CROSS-BLOCK-favorCross-SA-TUNED    0       8   \n2     yan_8_15_10_3  RR-MULTI-CROSS-BLOCK-favorCross-SA-TUNED    0       8   \n3     yan_8_15_10_4  RR-MULTI-CROSS-BLOCK-favorCross-SA-TUNED    0       8   \n4     yan_8_15_10_5  RR-MULTI-CROSS-BLOCK-favorCross-SA-TUNED    0       8   \n..              ...                                       ...  ...     ...   \n65   cat_40_60_30_6  RR-MULTI-CROSS-BLOCK-favorCross-SA-TUNED    0      40   \n66   cat_40_60_30_7  RR-MULTI-CROSS-BLOCK-favorCross-SA-TUNED    0      40   \n67   cat_40_60_30_8  RR-MULTI-CROSS-BLOCK-favorCross-SA-TUNED    0      40   \n68   cat_40_60_30_9  RR-MULTI-CROSS-BLOCK-favorCross-SA-TUNED    0      40   \n69  cat_40_60_30_10  RR-MULTI-CROSS-BLOCK-favorCross-SA-TUNED    0      40   \n\n    n_tools  magazine_size  variation  n_switches  run_time author  \n0        15             10          1           5     4.239    yan  \n1        15             10          2           5     6.194    yan  \n2        15             10          3           5     5.201    yan  \n3        15             10          4           5     4.859    yan  \n4        15             10          5           5     4.779    yan  \n..      ...            ...        ...         ...       ...    ...  \n65       60             30          6         101  1000.383    cat  \n66       60             30          7          89  1000.424    cat  \n67       60             30          8          80  1000.379    cat  \n68       60             30          9          89  1000.458    cat  \n69       60             30         10          94  1000.481    cat  \n\n[70 rows x 10 columns]",
      "text/html": "<div>\n<style scoped>\n    .dataframe tbody tr th:only-of-type {\n        vertical-align: middle;\n    }\n\n    .dataframe tbody tr th {\n        vertical-align: top;\n    }\n\n    .dataframe thead th {\n        text-align: right;\n    }\n</style>\n<table border=\"1\" class=\"dataframe\">\n  <thead>\n    <tr style=\"text-align: right;\">\n      <th></th>\n      <th>instance</th>\n      <th>run_type</th>\n      <th>run</th>\n      <th>n_jobs</th>\n      <th>n_tools</th>\n      <th>magazine_size</th>\n      <th>variation</th>\n      <th>n_switches</th>\n      <th>run_time</th>\n      <th>author</th>\n    </tr>\n  </thead>\n  <tbody>\n    <tr>\n      <th>0</th>\n      <td>yan_8_15_10_1</td>\n      <td>RR-MULTI-CROSS-BLOCK-favorCross-SA-TUNED</td>\n      <td>0</td>\n      <td>8</td>\n      <td>15</td>\n      <td>10</td>\n      <td>1</td>\n      <td>5</td>\n      <td>4.239</td>\n      <td>yan</td>\n    </tr>\n    <tr>\n      <th>1</th>\n      <td>yan_8_15_10_2</td>\n      <td>RR-MULTI-CROSS-BLOCK-favorCross-SA-TUNED</td>\n      <td>0</td>\n      <td>8</td>\n      <td>15</td>\n      <td>10</td>\n      <td>2</td>\n      <td>5</td>\n      <td>6.194</td>\n      <td>yan</td>\n    </tr>\n    <tr>\n      <th>2</th>\n      <td>yan_8_15_10_3</td>\n      <td>RR-MULTI-CROSS-BLOCK-favorCross-SA-TUNED</td>\n      <td>0</td>\n      <td>8</td>\n      <td>15</td>\n      <td>10</td>\n      <td>3</td>\n      <td>5</td>\n      <td>5.201</td>\n      <td>yan</td>\n    </tr>\n    <tr>\n      <th>3</th>\n      <td>yan_8_15_10_4</td>\n      <td>RR-MULTI-CROSS-BLOCK-favorCross-SA-TUNED</td>\n      <td>0</td>\n      <td>8</td>\n      <td>15</td>\n      <td>10</td>\n      <td>4</td>\n      <td>5</td>\n      <td>4.859</td>\n      <td>yan</td>\n    </tr>\n    <tr>\n      <th>4</th>\n      <td>yan_8_15_10_5</td>\n      <td>RR-MULTI-CROSS-BLOCK-favorCross-SA-TUNED</td>\n      <td>0</td>\n      <td>8</td>\n      <td>15</td>\n      <td>10</td>\n      <td>5</td>\n      <td>5</td>\n      <td>4.779</td>\n      <td>yan</td>\n    </tr>\n    <tr>\n      <th>...</th>\n      <td>...</td>\n      <td>...</td>\n      <td>...</td>\n      <td>...</td>\n      <td>...</td>\n      <td>...</td>\n      <td>...</td>\n      <td>...</td>\n      <td>...</td>\n      <td>...</td>\n    </tr>\n    <tr>\n      <th>65</th>\n      <td>cat_40_60_30_6</td>\n      <td>RR-MULTI-CROSS-BLOCK-favorCross-SA-TUNED</td>\n      <td>0</td>\n      <td>40</td>\n      <td>60</td>\n      <td>30</td>\n      <td>6</td>\n      <td>101</td>\n      <td>1000.383</td>\n      <td>cat</td>\n    </tr>\n    <tr>\n      <th>66</th>\n      <td>cat_40_60_30_7</td>\n      <td>RR-MULTI-CROSS-BLOCK-favorCross-SA-TUNED</td>\n      <td>0</td>\n      <td>40</td>\n      <td>60</td>\n      <td>30</td>\n      <td>7</td>\n      <td>89</td>\n      <td>1000.424</td>\n      <td>cat</td>\n    </tr>\n    <tr>\n      <th>67</th>\n      <td>cat_40_60_30_8</td>\n      <td>RR-MULTI-CROSS-BLOCK-favorCross-SA-TUNED</td>\n      <td>0</td>\n      <td>40</td>\n      <td>60</td>\n      <td>30</td>\n      <td>8</td>\n      <td>80</td>\n      <td>1000.379</td>\n      <td>cat</td>\n    </tr>\n    <tr>\n      <th>68</th>\n      <td>cat_40_60_30_9</td>\n      <td>RR-MULTI-CROSS-BLOCK-favorCross-SA-TUNED</td>\n      <td>0</td>\n      <td>40</td>\n      <td>60</td>\n      <td>30</td>\n      <td>9</td>\n      <td>89</td>\n      <td>1000.458</td>\n      <td>cat</td>\n    </tr>\n    <tr>\n      <th>69</th>\n      <td>cat_40_60_30_10</td>\n      <td>RR-MULTI-CROSS-BLOCK-favorCross-SA-TUNED</td>\n      <td>0</td>\n      <td>40</td>\n      <td>60</td>\n      <td>30</td>\n      <td>10</td>\n      <td>94</td>\n      <td>1000.481</td>\n      <td>cat</td>\n    </tr>\n  </tbody>\n</table>\n<p>70 rows × 10 columns</p>\n</div>"
     },
     "execution_count": 1,
     "metadata": {},
     "output_type": "execute_result"
    }
   ],
   "source": [
    "import pandas as pd\n",
    "import numpy as np\n",
    "import os.path as path\n",
    "\n",
    "root_dp = \"/Users/simonvermeir/Documents/industrial-engineering/SchoolCurrent/MasterProef/Master-Thesis-SSP\"\n",
    "\n",
    "df = pd.read_csv(path.join(root_dp, \"data/results/temp.csv\"))\n",
    "\n",
    "df"
   ]
  },
  {
   "cell_type": "code",
   "execution_count": 2,
   "outputs": [
    {
     "data": {
      "text/plain": "  author  n_jobs  n_tools  magazine_size  run  \\\n0    cat      15       20             12    0   \n1    cat      30       40             17    0   \n2    cat      40       60             30    0   \n3   cram      30       40             25    0   \n4    yan       8       15             10    0   \n\n                                   run_type  n_switches     run_time  \n0  RR-MULTI-CROSS-BLOCK-favorCross-SA-TUNED    7.200000    20.302800  \n1  RR-MULTI-CROSS-BLOCK-favorCross-SA-TUNED   66.700000   958.509900  \n2  RR-MULTI-CROSS-BLOCK-favorCross-SA-TUNED   89.600000  1000.417900  \n3  RR-MULTI-CROSS-BLOCK-favorCross-SA-TUNED   29.400000   965.030500  \n4  RR-MULTI-CROSS-BLOCK-favorCross-SA-TUNED    6.833333     7.060067  ",
      "text/html": "<div>\n<style scoped>\n    .dataframe tbody tr th:only-of-type {\n        vertical-align: middle;\n    }\n\n    .dataframe tbody tr th {\n        vertical-align: top;\n    }\n\n    .dataframe thead th {\n        text-align: right;\n    }\n</style>\n<table border=\"1\" class=\"dataframe\">\n  <thead>\n    <tr style=\"text-align: right;\">\n      <th></th>\n      <th>author</th>\n      <th>n_jobs</th>\n      <th>n_tools</th>\n      <th>magazine_size</th>\n      <th>run</th>\n      <th>run_type</th>\n      <th>n_switches</th>\n      <th>run_time</th>\n    </tr>\n  </thead>\n  <tbody>\n    <tr>\n      <th>0</th>\n      <td>cat</td>\n      <td>15</td>\n      <td>20</td>\n      <td>12</td>\n      <td>0</td>\n      <td>RR-MULTI-CROSS-BLOCK-favorCross-SA-TUNED</td>\n      <td>7.200000</td>\n      <td>20.302800</td>\n    </tr>\n    <tr>\n      <th>1</th>\n      <td>cat</td>\n      <td>30</td>\n      <td>40</td>\n      <td>17</td>\n      <td>0</td>\n      <td>RR-MULTI-CROSS-BLOCK-favorCross-SA-TUNED</td>\n      <td>66.700000</td>\n      <td>958.509900</td>\n    </tr>\n    <tr>\n      <th>2</th>\n      <td>cat</td>\n      <td>40</td>\n      <td>60</td>\n      <td>30</td>\n      <td>0</td>\n      <td>RR-MULTI-CROSS-BLOCK-favorCross-SA-TUNED</td>\n      <td>89.600000</td>\n      <td>1000.417900</td>\n    </tr>\n    <tr>\n      <th>3</th>\n      <td>cram</td>\n      <td>30</td>\n      <td>40</td>\n      <td>25</td>\n      <td>0</td>\n      <td>RR-MULTI-CROSS-BLOCK-favorCross-SA-TUNED</td>\n      <td>29.400000</td>\n      <td>965.030500</td>\n    </tr>\n    <tr>\n      <th>4</th>\n      <td>yan</td>\n      <td>8</td>\n      <td>15</td>\n      <td>10</td>\n      <td>0</td>\n      <td>RR-MULTI-CROSS-BLOCK-favorCross-SA-TUNED</td>\n      <td>6.833333</td>\n      <td>7.060067</td>\n    </tr>\n  </tbody>\n</table>\n</div>"
     },
     "execution_count": 2,
     "metadata": {},
     "output_type": "execute_result"
    }
   ],
   "source": [
    "a = {\n",
    "    'n_switches': 'mean',\n",
    "    'run_time': 'mean'\n",
    "}\n",
    "\n",
    "variationsGrouped = df.groupby([\"author\", \"n_jobs\", \"n_tools\", \"magazine_size\", \"run\",\"run_type\"], as_index=False).agg(a)\n",
    "variationsGrouped\n"
   ],
   "metadata": {
    "collapsed": false,
    "pycharm": {
     "name": "#%%\n"
    }
   }
  },
  {
   "cell_type": "code",
   "execution_count": 3,
   "metadata": {},
   "outputs": [
    {
     "data": {
      "text/plain": "  author n_jobs n_tools magazine_size  \\\n                                        \n0    cat     15      20            12   \n1    cat     30      40            17   \n2    cat     40      60            30   \n3   cram     30      40            25   \n4    yan      8      15            10   \n\n                                   run_type n_switches             \\\n                                                   min       mean   \n0  RR-MULTI-CROSS-BLOCK-favorCross-SA-TUNED   7.200000   7.200000   \n1  RR-MULTI-CROSS-BLOCK-favorCross-SA-TUNED  66.700000  66.700000   \n2  RR-MULTI-CROSS-BLOCK-favorCross-SA-TUNED  89.600000  89.600000   \n3  RR-MULTI-CROSS-BLOCK-favorCross-SA-TUNED  29.400000  29.400000   \n4  RR-MULTI-CROSS-BLOCK-favorCross-SA-TUNED   6.833333   6.833333   \n\n      run_time               \n           min         mean  \n0    20.302800    20.302800  \n1   958.509900   958.509900  \n2  1000.417900  1000.417900  \n3   965.030500   965.030500  \n4     7.060067     7.060067  ",
      "text/html": "<div>\n<style scoped>\n    .dataframe tbody tr th:only-of-type {\n        vertical-align: middle;\n    }\n\n    .dataframe tbody tr th {\n        vertical-align: top;\n    }\n\n    .dataframe thead tr th {\n        text-align: left;\n    }\n</style>\n<table border=\"1\" class=\"dataframe\">\n  <thead>\n    <tr>\n      <th></th>\n      <th>author</th>\n      <th>n_jobs</th>\n      <th>n_tools</th>\n      <th>magazine_size</th>\n      <th>run_type</th>\n      <th colspan=\"2\" halign=\"left\">n_switches</th>\n      <th colspan=\"2\" halign=\"left\">run_time</th>\n    </tr>\n    <tr>\n      <th></th>\n      <th></th>\n      <th></th>\n      <th></th>\n      <th></th>\n      <th></th>\n      <th>min</th>\n      <th>mean</th>\n      <th>min</th>\n      <th>mean</th>\n    </tr>\n  </thead>\n  <tbody>\n    <tr>\n      <th>0</th>\n      <td>cat</td>\n      <td>15</td>\n      <td>20</td>\n      <td>12</td>\n      <td>RR-MULTI-CROSS-BLOCK-favorCross-SA-TUNED</td>\n      <td>7.200000</td>\n      <td>7.200000</td>\n      <td>20.302800</td>\n      <td>20.302800</td>\n    </tr>\n    <tr>\n      <th>1</th>\n      <td>cat</td>\n      <td>30</td>\n      <td>40</td>\n      <td>17</td>\n      <td>RR-MULTI-CROSS-BLOCK-favorCross-SA-TUNED</td>\n      <td>66.700000</td>\n      <td>66.700000</td>\n      <td>958.509900</td>\n      <td>958.509900</td>\n    </tr>\n    <tr>\n      <th>2</th>\n      <td>cat</td>\n      <td>40</td>\n      <td>60</td>\n      <td>30</td>\n      <td>RR-MULTI-CROSS-BLOCK-favorCross-SA-TUNED</td>\n      <td>89.600000</td>\n      <td>89.600000</td>\n      <td>1000.417900</td>\n      <td>1000.417900</td>\n    </tr>\n    <tr>\n      <th>3</th>\n      <td>cram</td>\n      <td>30</td>\n      <td>40</td>\n      <td>25</td>\n      <td>RR-MULTI-CROSS-BLOCK-favorCross-SA-TUNED</td>\n      <td>29.400000</td>\n      <td>29.400000</td>\n      <td>965.030500</td>\n      <td>965.030500</td>\n    </tr>\n    <tr>\n      <th>4</th>\n      <td>yan</td>\n      <td>8</td>\n      <td>15</td>\n      <td>10</td>\n      <td>RR-MULTI-CROSS-BLOCK-favorCross-SA-TUNED</td>\n      <td>6.833333</td>\n      <td>6.833333</td>\n      <td>7.060067</td>\n      <td>7.060067</td>\n    </tr>\n  </tbody>\n</table>\n</div>"
     },
     "execution_count": 3,
     "metadata": {},
     "output_type": "execute_result"
    }
   ],
   "source": [
    "\n",
    "ab = {\n",
    "    'n_switches': ['min', 'mean'],\n",
    "    'run_time': ['min', 'mean'],\n",
    "}\n",
    "\n",
    "\n",
    "runsGrouped = variationsGrouped.groupby([\"author\",\"n_jobs\",\"n_tools\",\"magazine_size\",\"run_type\"], as_index=False).agg(ab)\n",
    "runsGrouped\n"
   ]
  },
  {
   "cell_type": "code",
   "execution_count": 4,
   "outputs": [],
   "source": [
    "#rename and unpack\n",
    "\n"
   ],
   "metadata": {
    "collapsed": false,
    "pycharm": {
     "name": "#%%\n"
    }
   }
  },
  {
   "cell_type": "code",
   "execution_count": 5,
   "metadata": {},
   "outputs": [
    {
     "data": {
      "text/plain": "   author   n   m   C   i  Best_ILS  Avg_ILS  T_ILS  Best_DQGA  Avg_DQGA  \\\n0     cat  10  10   4  10       8.5     8.50   0.09        8.5      8.50   \n1     cat  10  10   5  10       5.8     5.80   0.09        5.8      5.80   \n2     cat  10  10   6  10       4.1     4.10   0.05        4.1      4.10   \n3     cat  10  10   7  10       3.0     3.00   0.04        3.0      3.00   \n4     cat  15  20   6  10      20.5    20.50   1.06       20.5     20.72   \n..    ...  ..  ..  ..  ..       ...      ...    ...        ...       ...   \n89    yan  10  10   7  10       3.0     3.00   3.79        3.0      3.00   \n90    yan  15  20   6  10      21.4    21.71   7.79       21.4     21.40   \n91    yan  15  20   8  10      14.2    14.33   8.43       14.2     14.20   \n92    yan  15  20  10  10      10.3    10.34  13.96       10.3     10.30   \n93    yan  15  20  12  10       8.2     8.20  16.44        8.2      8.20   \n\n    T_DQGA Best_HGS  Avg_HGS  T_HGS  \n0     0.19      8.5     8.50   0.07  \n1     0.19      5.8     5.80   0.06  \n2     0.22      4.1     4.10   0.06  \n3     0.25      3.0     3.00   0.05  \n4     1.85     20.5    20.50   0.88  \n..     ...      ...      ...    ...  \n89    0.03      3.0     3.00   0.06  \n90    0.75     21.4    21.40   0.92  \n91    0.87     14.2    14.21   0.84  \n92    0.67     10.3    10.30   0.72  \n93    0.60      8.2     8.20   0.69  \n\n[94 rows x 14 columns]",
      "text/html": "<div>\n<style scoped>\n    .dataframe tbody tr th:only-of-type {\n        vertical-align: middle;\n    }\n\n    .dataframe tbody tr th {\n        vertical-align: top;\n    }\n\n    .dataframe thead th {\n        text-align: right;\n    }\n</style>\n<table border=\"1\" class=\"dataframe\">\n  <thead>\n    <tr style=\"text-align: right;\">\n      <th></th>\n      <th>author</th>\n      <th>n</th>\n      <th>m</th>\n      <th>C</th>\n      <th>i</th>\n      <th>Best_ILS</th>\n      <th>Avg_ILS</th>\n      <th>T_ILS</th>\n      <th>Best_DQGA</th>\n      <th>Avg_DQGA</th>\n      <th>T_DQGA</th>\n      <th>Best_HGS</th>\n      <th>Avg_HGS</th>\n      <th>T_HGS</th>\n    </tr>\n  </thead>\n  <tbody>\n    <tr>\n      <th>0</th>\n      <td>cat</td>\n      <td>10</td>\n      <td>10</td>\n      <td>4</td>\n      <td>10</td>\n      <td>8.5</td>\n      <td>8.50</td>\n      <td>0.09</td>\n      <td>8.5</td>\n      <td>8.50</td>\n      <td>0.19</td>\n      <td>8.5</td>\n      <td>8.50</td>\n      <td>0.07</td>\n    </tr>\n    <tr>\n      <th>1</th>\n      <td>cat</td>\n      <td>10</td>\n      <td>10</td>\n      <td>5</td>\n      <td>10</td>\n      <td>5.8</td>\n      <td>5.80</td>\n      <td>0.09</td>\n      <td>5.8</td>\n      <td>5.80</td>\n      <td>0.19</td>\n      <td>5.8</td>\n      <td>5.80</td>\n      <td>0.06</td>\n    </tr>\n    <tr>\n      <th>2</th>\n      <td>cat</td>\n      <td>10</td>\n      <td>10</td>\n      <td>6</td>\n      <td>10</td>\n      <td>4.1</td>\n      <td>4.10</td>\n      <td>0.05</td>\n      <td>4.1</td>\n      <td>4.10</td>\n      <td>0.22</td>\n      <td>4.1</td>\n      <td>4.10</td>\n      <td>0.06</td>\n    </tr>\n    <tr>\n      <th>3</th>\n      <td>cat</td>\n      <td>10</td>\n      <td>10</td>\n      <td>7</td>\n      <td>10</td>\n      <td>3.0</td>\n      <td>3.00</td>\n      <td>0.04</td>\n      <td>3.0</td>\n      <td>3.00</td>\n      <td>0.25</td>\n      <td>3.0</td>\n      <td>3.00</td>\n      <td>0.05</td>\n    </tr>\n    <tr>\n      <th>4</th>\n      <td>cat</td>\n      <td>15</td>\n      <td>20</td>\n      <td>6</td>\n      <td>10</td>\n      <td>20.5</td>\n      <td>20.50</td>\n      <td>1.06</td>\n      <td>20.5</td>\n      <td>20.72</td>\n      <td>1.85</td>\n      <td>20.5</td>\n      <td>20.50</td>\n      <td>0.88</td>\n    </tr>\n    <tr>\n      <th>...</th>\n      <td>...</td>\n      <td>...</td>\n      <td>...</td>\n      <td>...</td>\n      <td>...</td>\n      <td>...</td>\n      <td>...</td>\n      <td>...</td>\n      <td>...</td>\n      <td>...</td>\n      <td>...</td>\n      <td>...</td>\n      <td>...</td>\n      <td>...</td>\n    </tr>\n    <tr>\n      <th>89</th>\n      <td>yan</td>\n      <td>10</td>\n      <td>10</td>\n      <td>7</td>\n      <td>10</td>\n      <td>3.0</td>\n      <td>3.00</td>\n      <td>3.79</td>\n      <td>3.0</td>\n      <td>3.00</td>\n      <td>0.03</td>\n      <td>3.0</td>\n      <td>3.00</td>\n      <td>0.06</td>\n    </tr>\n    <tr>\n      <th>90</th>\n      <td>yan</td>\n      <td>15</td>\n      <td>20</td>\n      <td>6</td>\n      <td>10</td>\n      <td>21.4</td>\n      <td>21.71</td>\n      <td>7.79</td>\n      <td>21.4</td>\n      <td>21.40</td>\n      <td>0.75</td>\n      <td>21.4</td>\n      <td>21.40</td>\n      <td>0.92</td>\n    </tr>\n    <tr>\n      <th>91</th>\n      <td>yan</td>\n      <td>15</td>\n      <td>20</td>\n      <td>8</td>\n      <td>10</td>\n      <td>14.2</td>\n      <td>14.33</td>\n      <td>8.43</td>\n      <td>14.2</td>\n      <td>14.20</td>\n      <td>0.87</td>\n      <td>14.2</td>\n      <td>14.21</td>\n      <td>0.84</td>\n    </tr>\n    <tr>\n      <th>92</th>\n      <td>yan</td>\n      <td>15</td>\n      <td>20</td>\n      <td>10</td>\n      <td>10</td>\n      <td>10.3</td>\n      <td>10.34</td>\n      <td>13.96</td>\n      <td>10.3</td>\n      <td>10.30</td>\n      <td>0.67</td>\n      <td>10.3</td>\n      <td>10.30</td>\n      <td>0.72</td>\n    </tr>\n    <tr>\n      <th>93</th>\n      <td>yan</td>\n      <td>15</td>\n      <td>20</td>\n      <td>12</td>\n      <td>10</td>\n      <td>8.2</td>\n      <td>8.20</td>\n      <td>16.44</td>\n      <td>8.2</td>\n      <td>8.20</td>\n      <td>0.60</td>\n      <td>8.2</td>\n      <td>8.20</td>\n      <td>0.69</td>\n    </tr>\n  </tbody>\n</table>\n<p>94 rows × 14 columns</p>\n</div>"
     },
     "execution_count": 5,
     "metadata": {},
     "output_type": "execute_result"
    }
   ],
   "source": [
    "\n",
    "reference = pd.read_csv(path.join(root_dp, \"data/reference/reference.csv\"))\n",
    "reference"
   ]
  },
  {
   "cell_type": "code",
   "execution_count": 6,
   "outputs": [
    {
     "data": {
      "text/plain": "                  i  Best_ILS  Avg_ILS  T_ILS  Best_DQGA  Avg_DQGA  T_DQGA  \\\nauthor n  m  C                                                               \ncat    10 10 4   10       8.5     8.50   0.09        8.5      8.50    0.19   \n             5   10       5.8     5.80   0.09        5.8      5.80    0.19   \n             6   10       4.1     4.10   0.05        4.1      4.10    0.22   \n             7   10       3.0     3.00   0.04        3.0      3.00    0.25   \n       15 20 6   10      20.5    20.50   1.06       20.5     20.72    1.85   \n...              ..       ...      ...    ...        ...       ...     ...   \nyan    10 10 7   10       3.0     3.00   3.79        3.0      3.00    0.03   \n       15 20 6   10      21.4    21.71   7.79       21.4     21.40    0.75   \n             8   10      14.2    14.33   8.43       14.2     14.20    0.87   \n             10  10      10.3    10.34  13.96       10.3     10.30    0.67   \n             12  10       8.2     8.20  16.44        8.2      8.20    0.60   \n\n                Best_HGS  Avg_HGS  T_HGS  \nauthor n  m  C                            \ncat    10 10 4       8.5     8.50   0.07  \n             5       5.8     5.80   0.06  \n             6       4.1     4.10   0.06  \n             7       3.0     3.00   0.05  \n       15 20 6      20.5    20.50   0.88  \n...                  ...      ...    ...  \nyan    10 10 7       3.0     3.00   0.06  \n       15 20 6      21.4    21.40   0.92  \n             8      14.2    14.21   0.84  \n             10     10.3    10.30   0.72  \n             12      8.2     8.20   0.69  \n\n[94 rows x 10 columns]",
      "text/html": "<div>\n<style scoped>\n    .dataframe tbody tr th:only-of-type {\n        vertical-align: middle;\n    }\n\n    .dataframe tbody tr th {\n        vertical-align: top;\n    }\n\n    .dataframe thead th {\n        text-align: right;\n    }\n</style>\n<table border=\"1\" class=\"dataframe\">\n  <thead>\n    <tr style=\"text-align: right;\">\n      <th></th>\n      <th></th>\n      <th></th>\n      <th></th>\n      <th>i</th>\n      <th>Best_ILS</th>\n      <th>Avg_ILS</th>\n      <th>T_ILS</th>\n      <th>Best_DQGA</th>\n      <th>Avg_DQGA</th>\n      <th>T_DQGA</th>\n      <th>Best_HGS</th>\n      <th>Avg_HGS</th>\n      <th>T_HGS</th>\n    </tr>\n    <tr>\n      <th>author</th>\n      <th>n</th>\n      <th>m</th>\n      <th>C</th>\n      <th></th>\n      <th></th>\n      <th></th>\n      <th></th>\n      <th></th>\n      <th></th>\n      <th></th>\n      <th></th>\n      <th></th>\n      <th></th>\n    </tr>\n  </thead>\n  <tbody>\n    <tr>\n      <th rowspan=\"5\" valign=\"top\">cat</th>\n      <th rowspan=\"4\" valign=\"top\">10</th>\n      <th rowspan=\"4\" valign=\"top\">10</th>\n      <th>4</th>\n      <td>10</td>\n      <td>8.5</td>\n      <td>8.50</td>\n      <td>0.09</td>\n      <td>8.5</td>\n      <td>8.50</td>\n      <td>0.19</td>\n      <td>8.5</td>\n      <td>8.50</td>\n      <td>0.07</td>\n    </tr>\n    <tr>\n      <th>5</th>\n      <td>10</td>\n      <td>5.8</td>\n      <td>5.80</td>\n      <td>0.09</td>\n      <td>5.8</td>\n      <td>5.80</td>\n      <td>0.19</td>\n      <td>5.8</td>\n      <td>5.80</td>\n      <td>0.06</td>\n    </tr>\n    <tr>\n      <th>6</th>\n      <td>10</td>\n      <td>4.1</td>\n      <td>4.10</td>\n      <td>0.05</td>\n      <td>4.1</td>\n      <td>4.10</td>\n      <td>0.22</td>\n      <td>4.1</td>\n      <td>4.10</td>\n      <td>0.06</td>\n    </tr>\n    <tr>\n      <th>7</th>\n      <td>10</td>\n      <td>3.0</td>\n      <td>3.00</td>\n      <td>0.04</td>\n      <td>3.0</td>\n      <td>3.00</td>\n      <td>0.25</td>\n      <td>3.0</td>\n      <td>3.00</td>\n      <td>0.05</td>\n    </tr>\n    <tr>\n      <th>15</th>\n      <th>20</th>\n      <th>6</th>\n      <td>10</td>\n      <td>20.5</td>\n      <td>20.50</td>\n      <td>1.06</td>\n      <td>20.5</td>\n      <td>20.72</td>\n      <td>1.85</td>\n      <td>20.5</td>\n      <td>20.50</td>\n      <td>0.88</td>\n    </tr>\n    <tr>\n      <th>...</th>\n      <th>...</th>\n      <th>...</th>\n      <th>...</th>\n      <td>...</td>\n      <td>...</td>\n      <td>...</td>\n      <td>...</td>\n      <td>...</td>\n      <td>...</td>\n      <td>...</td>\n      <td>...</td>\n      <td>...</td>\n      <td>...</td>\n    </tr>\n    <tr>\n      <th rowspan=\"5\" valign=\"top\">yan</th>\n      <th>10</th>\n      <th>10</th>\n      <th>7</th>\n      <td>10</td>\n      <td>3.0</td>\n      <td>3.00</td>\n      <td>3.79</td>\n      <td>3.0</td>\n      <td>3.00</td>\n      <td>0.03</td>\n      <td>3.0</td>\n      <td>3.00</td>\n      <td>0.06</td>\n    </tr>\n    <tr>\n      <th rowspan=\"4\" valign=\"top\">15</th>\n      <th rowspan=\"4\" valign=\"top\">20</th>\n      <th>6</th>\n      <td>10</td>\n      <td>21.4</td>\n      <td>21.71</td>\n      <td>7.79</td>\n      <td>21.4</td>\n      <td>21.40</td>\n      <td>0.75</td>\n      <td>21.4</td>\n      <td>21.40</td>\n      <td>0.92</td>\n    </tr>\n    <tr>\n      <th>8</th>\n      <td>10</td>\n      <td>14.2</td>\n      <td>14.33</td>\n      <td>8.43</td>\n      <td>14.2</td>\n      <td>14.20</td>\n      <td>0.87</td>\n      <td>14.2</td>\n      <td>14.21</td>\n      <td>0.84</td>\n    </tr>\n    <tr>\n      <th>10</th>\n      <td>10</td>\n      <td>10.3</td>\n      <td>10.34</td>\n      <td>13.96</td>\n      <td>10.3</td>\n      <td>10.30</td>\n      <td>0.67</td>\n      <td>10.3</td>\n      <td>10.30</td>\n      <td>0.72</td>\n    </tr>\n    <tr>\n      <th>12</th>\n      <td>10</td>\n      <td>8.2</td>\n      <td>8.20</td>\n      <td>16.44</td>\n      <td>8.2</td>\n      <td>8.20</td>\n      <td>0.60</td>\n      <td>8.2</td>\n      <td>8.20</td>\n      <td>0.69</td>\n    </tr>\n  </tbody>\n</table>\n<p>94 rows × 10 columns</p>\n</div>"
     },
     "execution_count": 6,
     "metadata": {},
     "output_type": "execute_result"
    }
   ],
   "source": [
    "reference = reference.set_index(['author','n','m','C'])\n",
    "reference\n",
    "\n"
   ],
   "metadata": {
    "collapsed": false,
    "pycharm": {
     "name": "#%%\n"
    }
   }
  },
  {
   "cell_type": "code",
   "execution_count": 7,
   "metadata": {},
   "outputs": [
    {
     "data": {
      "text/plain": "                                                                     run_type  \\\n                                                                                \nauthor n_jobs n_tools magazine_size                                             \ncat    15     20      12             RR-MULTI-CROSS-BLOCK-favorCross-SA-TUNED   \n       30     40      17             RR-MULTI-CROSS-BLOCK-favorCross-SA-TUNED   \n       40     60      30             RR-MULTI-CROSS-BLOCK-favorCross-SA-TUNED   \ncram   30     40      25             RR-MULTI-CROSS-BLOCK-favorCross-SA-TUNED   \nyan    8      15      10             RR-MULTI-CROSS-BLOCK-favorCross-SA-TUNED   \n\n                                    n_switches                run_time  \\\n                                           min       mean          min   \nauthor n_jobs n_tools magazine_size                                      \ncat    15     20      12              7.200000   7.200000    20.302800   \n       30     40      17             66.700000  66.700000   958.509900   \n       40     60      30             89.600000  89.600000  1000.417900   \ncram   30     40      25             29.400000  29.400000   965.030500   \nyan    8      15      10              6.833333   6.833333     7.060067   \n\n                                                  \n                                            mean  \nauthor n_jobs n_tools magazine_size               \ncat    15     20      12               20.302800  \n       30     40      17              958.509900  \n       40     60      30             1000.417900  \ncram   30     40      25              965.030500  \nyan    8      15      10                7.060067  ",
      "text/html": "<div>\n<style scoped>\n    .dataframe tbody tr th:only-of-type {\n        vertical-align: middle;\n    }\n\n    .dataframe tbody tr th {\n        vertical-align: top;\n    }\n\n    .dataframe thead tr th {\n        text-align: left;\n    }\n\n    .dataframe thead tr:last-of-type th {\n        text-align: right;\n    }\n</style>\n<table border=\"1\" class=\"dataframe\">\n  <thead>\n    <tr>\n      <th></th>\n      <th></th>\n      <th></th>\n      <th></th>\n      <th>run_type</th>\n      <th colspan=\"2\" halign=\"left\">n_switches</th>\n      <th colspan=\"2\" halign=\"left\">run_time</th>\n    </tr>\n    <tr>\n      <th></th>\n      <th></th>\n      <th></th>\n      <th></th>\n      <th></th>\n      <th>min</th>\n      <th>mean</th>\n      <th>min</th>\n      <th>mean</th>\n    </tr>\n    <tr>\n      <th>author</th>\n      <th>n_jobs</th>\n      <th>n_tools</th>\n      <th>magazine_size</th>\n      <th></th>\n      <th></th>\n      <th></th>\n      <th></th>\n      <th></th>\n    </tr>\n  </thead>\n  <tbody>\n    <tr>\n      <th rowspan=\"3\" valign=\"top\">cat</th>\n      <th>15</th>\n      <th>20</th>\n      <th>12</th>\n      <td>RR-MULTI-CROSS-BLOCK-favorCross-SA-TUNED</td>\n      <td>7.200000</td>\n      <td>7.200000</td>\n      <td>20.302800</td>\n      <td>20.302800</td>\n    </tr>\n    <tr>\n      <th>30</th>\n      <th>40</th>\n      <th>17</th>\n      <td>RR-MULTI-CROSS-BLOCK-favorCross-SA-TUNED</td>\n      <td>66.700000</td>\n      <td>66.700000</td>\n      <td>958.509900</td>\n      <td>958.509900</td>\n    </tr>\n    <tr>\n      <th>40</th>\n      <th>60</th>\n      <th>30</th>\n      <td>RR-MULTI-CROSS-BLOCK-favorCross-SA-TUNED</td>\n      <td>89.600000</td>\n      <td>89.600000</td>\n      <td>1000.417900</td>\n      <td>1000.417900</td>\n    </tr>\n    <tr>\n      <th>cram</th>\n      <th>30</th>\n      <th>40</th>\n      <th>25</th>\n      <td>RR-MULTI-CROSS-BLOCK-favorCross-SA-TUNED</td>\n      <td>29.400000</td>\n      <td>29.400000</td>\n      <td>965.030500</td>\n      <td>965.030500</td>\n    </tr>\n    <tr>\n      <th>yan</th>\n      <th>8</th>\n      <th>15</th>\n      <th>10</th>\n      <td>RR-MULTI-CROSS-BLOCK-favorCross-SA-TUNED</td>\n      <td>6.833333</td>\n      <td>6.833333</td>\n      <td>7.060067</td>\n      <td>7.060067</td>\n    </tr>\n  </tbody>\n</table>\n</div>"
     },
     "execution_count": 7,
     "metadata": {},
     "output_type": "execute_result"
    }
   ],
   "source": [
    "multi: pd.DataFrame = runsGrouped.set_index(['author','n_jobs','n_tools','magazine_size'])\n",
    "\n",
    "multi\n"
   ]
  },
  {
   "cell_type": "code",
   "execution_count": 8,
   "outputs": [
    {
     "name": "stderr",
     "output_type": "stream",
     "text": [
      "/Users/simonvermeir/Documents/industrial-engineering/SchoolCurrent/MasterProef/Master-Thesis-SSP/venv/lib/python3.7/site-packages/pandas/core/reshape/merge.py:618: UserWarning: merging between different levels can give an unintended result (2 levels on the left, 1 on the right)\n",
      "  warnings.warn(msg, UserWarning)\n"
     ]
    },
    {
     "data": {
      "text/plain": "                                             (run_type, )  (n_switches, min)  \\\nauthor n  m  C                                                                 \ncat    15 20 12  RR-MULTI-CROSS-BLOCK-favorCross-SA-TUNED           7.200000   \n       30 40 17  RR-MULTI-CROSS-BLOCK-favorCross-SA-TUNED          66.700000   \n       40 60 30  RR-MULTI-CROSS-BLOCK-favorCross-SA-TUNED          89.600000   \ncram   30 40 25  RR-MULTI-CROSS-BLOCK-favorCross-SA-TUNED          29.400000   \nyan    8  15 10  RR-MULTI-CROSS-BLOCK-favorCross-SA-TUNED           6.833333   \n\n                 (n_switches, mean)  (run_time, min)  (run_time, mean)   i  \\\nauthor n  m  C                                                               \ncat    15 20 12            7.200000        20.302800         20.302800  10   \n       30 40 17           66.700000       958.509900        958.509900  10   \n       40 60 30           89.600000      1000.417900       1000.417900  10   \ncram   30 40 25           29.400000       965.030500        965.030500  10   \nyan    8  15 10            6.833333         7.060067          7.060067  30   \n\n                 Best_ILS  Avg_ILS    T_ILS  Best_DQGA  Avg_DQGA   T_DQGA  \\\nauthor n  m  C                                                              \ncat    15 20 12      7.20     7.20     0.69       7.20      7.20     0.90   \n       30 40 17     65.50    65.82   132.97      65.50     66.74   223.35   \n       40 60 30     85.20    85.42  1473.24      85.20     87.22  1296.50   \ncram   30 40 25     27.90    28.14   142.41      27.70     28.64   189.77   \nyan    8  15 10      6.83     6.83     2.91       6.83      6.83     0.07   \n\n                Best_HGS  Avg_HGS   T_HGS  \nauthor n  m  C                             \ncat    15 20 12      7.2     7.20    0.60  \n       30 40 17     65.4    65.43   71.77  \n       40 60 30     84.3    84.66  484.14  \ncram   30 40 25    27.80    28.02   62.61  \nyan    8  15 10     6.83     6.83    0.04  ",
      "text/html": "<div>\n<style scoped>\n    .dataframe tbody tr th:only-of-type {\n        vertical-align: middle;\n    }\n\n    .dataframe tbody tr th {\n        vertical-align: top;\n    }\n\n    .dataframe thead th {\n        text-align: right;\n    }\n</style>\n<table border=\"1\" class=\"dataframe\">\n  <thead>\n    <tr style=\"text-align: right;\">\n      <th></th>\n      <th></th>\n      <th></th>\n      <th></th>\n      <th>(run_type, )</th>\n      <th>(n_switches, min)</th>\n      <th>(n_switches, mean)</th>\n      <th>(run_time, min)</th>\n      <th>(run_time, mean)</th>\n      <th>i</th>\n      <th>Best_ILS</th>\n      <th>Avg_ILS</th>\n      <th>T_ILS</th>\n      <th>Best_DQGA</th>\n      <th>Avg_DQGA</th>\n      <th>T_DQGA</th>\n      <th>Best_HGS</th>\n      <th>Avg_HGS</th>\n      <th>T_HGS</th>\n    </tr>\n    <tr>\n      <th>author</th>\n      <th>n</th>\n      <th>m</th>\n      <th>C</th>\n      <th></th>\n      <th></th>\n      <th></th>\n      <th></th>\n      <th></th>\n      <th></th>\n      <th></th>\n      <th></th>\n      <th></th>\n      <th></th>\n      <th></th>\n      <th></th>\n      <th></th>\n      <th></th>\n      <th></th>\n    </tr>\n  </thead>\n  <tbody>\n    <tr>\n      <th rowspan=\"3\" valign=\"top\">cat</th>\n      <th>15</th>\n      <th>20</th>\n      <th>12</th>\n      <td>RR-MULTI-CROSS-BLOCK-favorCross-SA-TUNED</td>\n      <td>7.200000</td>\n      <td>7.200000</td>\n      <td>20.302800</td>\n      <td>20.302800</td>\n      <td>10</td>\n      <td>7.20</td>\n      <td>7.20</td>\n      <td>0.69</td>\n      <td>7.20</td>\n      <td>7.20</td>\n      <td>0.90</td>\n      <td>7.2</td>\n      <td>7.20</td>\n      <td>0.60</td>\n    </tr>\n    <tr>\n      <th>30</th>\n      <th>40</th>\n      <th>17</th>\n      <td>RR-MULTI-CROSS-BLOCK-favorCross-SA-TUNED</td>\n      <td>66.700000</td>\n      <td>66.700000</td>\n      <td>958.509900</td>\n      <td>958.509900</td>\n      <td>10</td>\n      <td>65.50</td>\n      <td>65.82</td>\n      <td>132.97</td>\n      <td>65.50</td>\n      <td>66.74</td>\n      <td>223.35</td>\n      <td>65.4</td>\n      <td>65.43</td>\n      <td>71.77</td>\n    </tr>\n    <tr>\n      <th>40</th>\n      <th>60</th>\n      <th>30</th>\n      <td>RR-MULTI-CROSS-BLOCK-favorCross-SA-TUNED</td>\n      <td>89.600000</td>\n      <td>89.600000</td>\n      <td>1000.417900</td>\n      <td>1000.417900</td>\n      <td>10</td>\n      <td>85.20</td>\n      <td>85.42</td>\n      <td>1473.24</td>\n      <td>85.20</td>\n      <td>87.22</td>\n      <td>1296.50</td>\n      <td>84.3</td>\n      <td>84.66</td>\n      <td>484.14</td>\n    </tr>\n    <tr>\n      <th>cram</th>\n      <th>30</th>\n      <th>40</th>\n      <th>25</th>\n      <td>RR-MULTI-CROSS-BLOCK-favorCross-SA-TUNED</td>\n      <td>29.400000</td>\n      <td>29.400000</td>\n      <td>965.030500</td>\n      <td>965.030500</td>\n      <td>10</td>\n      <td>27.90</td>\n      <td>28.14</td>\n      <td>142.41</td>\n      <td>27.70</td>\n      <td>28.64</td>\n      <td>189.77</td>\n      <td>27.80</td>\n      <td>28.02</td>\n      <td>62.61</td>\n    </tr>\n    <tr>\n      <th>yan</th>\n      <th>8</th>\n      <th>15</th>\n      <th>10</th>\n      <td>RR-MULTI-CROSS-BLOCK-favorCross-SA-TUNED</td>\n      <td>6.833333</td>\n      <td>6.833333</td>\n      <td>7.060067</td>\n      <td>7.060067</td>\n      <td>30</td>\n      <td>6.83</td>\n      <td>6.83</td>\n      <td>2.91</td>\n      <td>6.83</td>\n      <td>6.83</td>\n      <td>0.07</td>\n      <td>6.83</td>\n      <td>6.83</td>\n      <td>0.04</td>\n    </tr>\n  </tbody>\n</table>\n</div>"
     },
     "execution_count": 8,
     "metadata": {},
     "output_type": "execute_result"
    }
   ],
   "source": [
    "merged = pd.merge(multi,reference, left_index=True, right_on=['author','n','m','C'])\n",
    "merged"
   ],
   "metadata": {
    "collapsed": false,
    "pycharm": {
     "name": "#%%\n"
    }
   }
  },
  {
   "cell_type": "code",
   "execution_count": 9,
   "outputs": [
    {
     "data": {
      "text/plain": "                                                 run_type    Best_LS  \\\nauthor n  m  C                                                         \ncat    15 20 12  RR-MULTI-CROSS-BLOCK-favorCross-SA-TUNED   7.200000   \n       30 40 17  RR-MULTI-CROSS-BLOCK-favorCross-SA-TUNED  66.700000   \n       40 60 30  RR-MULTI-CROSS-BLOCK-favorCross-SA-TUNED  89.600000   \ncram   30 40 25  RR-MULTI-CROSS-BLOCK-favorCross-SA-TUNED  29.400000   \nyan    8  15 10  RR-MULTI-CROSS-BLOCK-favorCross-SA-TUNED   6.833333   \n\n                    Avg_LS         T_LS     T_LS_AVG   i  Best_ILS  Avg_ILS  \\\nauthor n  m  C                                                                \ncat    15 20 12   7.200000    20.302800    20.302800  10      7.20     7.20   \n       30 40 17  66.700000   958.509900   958.509900  10     65.50    65.82   \n       40 60 30  89.600000  1000.417900  1000.417900  10     85.20    85.42   \ncram   30 40 25  29.400000   965.030500   965.030500  10     27.90    28.14   \nyan    8  15 10   6.833333     7.060067     7.060067  30      6.83     6.83   \n\n                   T_ILS  Best_DQGA  Avg_DQGA   T_DQGA Best_HGS  Avg_HGS  \\\nauthor n  m  C                                                             \ncat    15 20 12     0.69       7.20      7.20     0.90      7.2     7.20   \n       30 40 17   132.97      65.50     66.74   223.35     65.4    65.43   \n       40 60 30  1473.24      85.20     87.22  1296.50     84.3    84.66   \ncram   30 40 25   142.41      27.70     28.64   189.77    27.80    28.02   \nyan    8  15 10     2.91       6.83      6.83     0.07     6.83     6.83   \n\n                  T_HGS  \nauthor n  m  C           \ncat    15 20 12    0.60  \n       30 40 17   71.77  \n       40 60 30  484.14  \ncram   30 40 25   62.61  \nyan    8  15 10    0.04  ",
      "text/html": "<div>\n<style scoped>\n    .dataframe tbody tr th:only-of-type {\n        vertical-align: middle;\n    }\n\n    .dataframe tbody tr th {\n        vertical-align: top;\n    }\n\n    .dataframe thead th {\n        text-align: right;\n    }\n</style>\n<table border=\"1\" class=\"dataframe\">\n  <thead>\n    <tr style=\"text-align: right;\">\n      <th></th>\n      <th></th>\n      <th></th>\n      <th></th>\n      <th>run_type</th>\n      <th>Best_LS</th>\n      <th>Avg_LS</th>\n      <th>T_LS</th>\n      <th>T_LS_AVG</th>\n      <th>i</th>\n      <th>Best_ILS</th>\n      <th>Avg_ILS</th>\n      <th>T_ILS</th>\n      <th>Best_DQGA</th>\n      <th>Avg_DQGA</th>\n      <th>T_DQGA</th>\n      <th>Best_HGS</th>\n      <th>Avg_HGS</th>\n      <th>T_HGS</th>\n    </tr>\n    <tr>\n      <th>author</th>\n      <th>n</th>\n      <th>m</th>\n      <th>C</th>\n      <th></th>\n      <th></th>\n      <th></th>\n      <th></th>\n      <th></th>\n      <th></th>\n      <th></th>\n      <th></th>\n      <th></th>\n      <th></th>\n      <th></th>\n      <th></th>\n      <th></th>\n      <th></th>\n      <th></th>\n    </tr>\n  </thead>\n  <tbody>\n    <tr>\n      <th rowspan=\"3\" valign=\"top\">cat</th>\n      <th>15</th>\n      <th>20</th>\n      <th>12</th>\n      <td>RR-MULTI-CROSS-BLOCK-favorCross-SA-TUNED</td>\n      <td>7.200000</td>\n      <td>7.200000</td>\n      <td>20.302800</td>\n      <td>20.302800</td>\n      <td>10</td>\n      <td>7.20</td>\n      <td>7.20</td>\n      <td>0.69</td>\n      <td>7.20</td>\n      <td>7.20</td>\n      <td>0.90</td>\n      <td>7.2</td>\n      <td>7.20</td>\n      <td>0.60</td>\n    </tr>\n    <tr>\n      <th>30</th>\n      <th>40</th>\n      <th>17</th>\n      <td>RR-MULTI-CROSS-BLOCK-favorCross-SA-TUNED</td>\n      <td>66.700000</td>\n      <td>66.700000</td>\n      <td>958.509900</td>\n      <td>958.509900</td>\n      <td>10</td>\n      <td>65.50</td>\n      <td>65.82</td>\n      <td>132.97</td>\n      <td>65.50</td>\n      <td>66.74</td>\n      <td>223.35</td>\n      <td>65.4</td>\n      <td>65.43</td>\n      <td>71.77</td>\n    </tr>\n    <tr>\n      <th>40</th>\n      <th>60</th>\n      <th>30</th>\n      <td>RR-MULTI-CROSS-BLOCK-favorCross-SA-TUNED</td>\n      <td>89.600000</td>\n      <td>89.600000</td>\n      <td>1000.417900</td>\n      <td>1000.417900</td>\n      <td>10</td>\n      <td>85.20</td>\n      <td>85.42</td>\n      <td>1473.24</td>\n      <td>85.20</td>\n      <td>87.22</td>\n      <td>1296.50</td>\n      <td>84.3</td>\n      <td>84.66</td>\n      <td>484.14</td>\n    </tr>\n    <tr>\n      <th>cram</th>\n      <th>30</th>\n      <th>40</th>\n      <th>25</th>\n      <td>RR-MULTI-CROSS-BLOCK-favorCross-SA-TUNED</td>\n      <td>29.400000</td>\n      <td>29.400000</td>\n      <td>965.030500</td>\n      <td>965.030500</td>\n      <td>10</td>\n      <td>27.90</td>\n      <td>28.14</td>\n      <td>142.41</td>\n      <td>27.70</td>\n      <td>28.64</td>\n      <td>189.77</td>\n      <td>27.80</td>\n      <td>28.02</td>\n      <td>62.61</td>\n    </tr>\n    <tr>\n      <th>yan</th>\n      <th>8</th>\n      <th>15</th>\n      <th>10</th>\n      <td>RR-MULTI-CROSS-BLOCK-favorCross-SA-TUNED</td>\n      <td>6.833333</td>\n      <td>6.833333</td>\n      <td>7.060067</td>\n      <td>7.060067</td>\n      <td>30</td>\n      <td>6.83</td>\n      <td>6.83</td>\n      <td>2.91</td>\n      <td>6.83</td>\n      <td>6.83</td>\n      <td>0.07</td>\n      <td>6.83</td>\n      <td>6.83</td>\n      <td>0.04</td>\n    </tr>\n  </tbody>\n</table>\n</div>"
     },
     "execution_count": 9,
     "metadata": {},
     "output_type": "execute_result"
    }
   ],
   "source": [
    "merged = merged.rename(columns={\n",
    "    ('run_type', ''): 'run_type',\n",
    "    ('n_switches', 'min'): 'Best_LS',\n",
    "    ('n_switches', 'mean'): 'Avg_LS',\n",
    "    ('run_time', 'min'): 'T_LS',\n",
    "     ('run_time', 'mean'): 'T_LS_AVG',    \n",
    "\n",
    "})\n",
    "merged"
   ],
   "metadata": {
    "collapsed": false,
    "pycharm": {
     "name": "#%%\n"
    }
   }
  },
  {
   "cell_type": "code",
   "execution_count": 10,
   "outputs": [
    {
     "data": {
      "text/plain": "                                                 run_type    Best_LS  \\\nauthor n  m  C                                                         \ncat    15 20 12  RR-MULTI-CROSS-BLOCK-favorCross-SA-TUNED   7.200000   \n       30 40 17  RR-MULTI-CROSS-BLOCK-favorCross-SA-TUNED  66.700000   \n       40 60 30  RR-MULTI-CROSS-BLOCK-favorCross-SA-TUNED  89.600000   \ncram   30 40 25  RR-MULTI-CROSS-BLOCK-favorCross-SA-TUNED  29.400000   \nyan    8  15 10  RR-MULTI-CROSS-BLOCK-favorCross-SA-TUNED   6.833333   \n\n                    Avg_LS         T_LS   i  Best_ILS  Avg_ILS    T_ILS  \\\nauthor n  m  C                                                            \ncat    15 20 12   7.200000    20.302800  10      7.20     7.20     0.69   \n       30 40 17  66.700000   958.509900  10     65.50    65.82   132.97   \n       40 60 30  89.600000  1000.417900  10     85.20    85.42  1473.24   \ncram   30 40 25  29.400000   965.030500  10     27.90    28.14   142.41   \nyan    8  15 10   6.833333     7.060067  30      6.83     6.83     2.91   \n\n                 Best_DQGA  Avg_DQGA   T_DQGA Best_HGS  Avg_HGS   T_HGS  \nauthor n  m  C                                                           \ncat    15 20 12       7.20      7.20     0.90      7.2     7.20    0.60  \n       30 40 17      65.50     66.74   223.35     65.4    65.43   71.77  \n       40 60 30      85.20     87.22  1296.50     84.3    84.66  484.14  \ncram   30 40 25      27.70     28.64   189.77    27.80    28.02   62.61  \nyan    8  15 10       6.83      6.83     0.07     6.83     6.83    0.04  ",
      "text/html": "<div>\n<style scoped>\n    .dataframe tbody tr th:only-of-type {\n        vertical-align: middle;\n    }\n\n    .dataframe tbody tr th {\n        vertical-align: top;\n    }\n\n    .dataframe thead th {\n        text-align: right;\n    }\n</style>\n<table border=\"1\" class=\"dataframe\">\n  <thead>\n    <tr style=\"text-align: right;\">\n      <th></th>\n      <th></th>\n      <th></th>\n      <th></th>\n      <th>run_type</th>\n      <th>Best_LS</th>\n      <th>Avg_LS</th>\n      <th>T_LS</th>\n      <th>i</th>\n      <th>Best_ILS</th>\n      <th>Avg_ILS</th>\n      <th>T_ILS</th>\n      <th>Best_DQGA</th>\n      <th>Avg_DQGA</th>\n      <th>T_DQGA</th>\n      <th>Best_HGS</th>\n      <th>Avg_HGS</th>\n      <th>T_HGS</th>\n    </tr>\n    <tr>\n      <th>author</th>\n      <th>n</th>\n      <th>m</th>\n      <th>C</th>\n      <th></th>\n      <th></th>\n      <th></th>\n      <th></th>\n      <th></th>\n      <th></th>\n      <th></th>\n      <th></th>\n      <th></th>\n      <th></th>\n      <th></th>\n      <th></th>\n      <th></th>\n      <th></th>\n    </tr>\n  </thead>\n  <tbody>\n    <tr>\n      <th rowspan=\"3\" valign=\"top\">cat</th>\n      <th>15</th>\n      <th>20</th>\n      <th>12</th>\n      <td>RR-MULTI-CROSS-BLOCK-favorCross-SA-TUNED</td>\n      <td>7.200000</td>\n      <td>7.200000</td>\n      <td>20.302800</td>\n      <td>10</td>\n      <td>7.20</td>\n      <td>7.20</td>\n      <td>0.69</td>\n      <td>7.20</td>\n      <td>7.20</td>\n      <td>0.90</td>\n      <td>7.2</td>\n      <td>7.20</td>\n      <td>0.60</td>\n    </tr>\n    <tr>\n      <th>30</th>\n      <th>40</th>\n      <th>17</th>\n      <td>RR-MULTI-CROSS-BLOCK-favorCross-SA-TUNED</td>\n      <td>66.700000</td>\n      <td>66.700000</td>\n      <td>958.509900</td>\n      <td>10</td>\n      <td>65.50</td>\n      <td>65.82</td>\n      <td>132.97</td>\n      <td>65.50</td>\n      <td>66.74</td>\n      <td>223.35</td>\n      <td>65.4</td>\n      <td>65.43</td>\n      <td>71.77</td>\n    </tr>\n    <tr>\n      <th>40</th>\n      <th>60</th>\n      <th>30</th>\n      <td>RR-MULTI-CROSS-BLOCK-favorCross-SA-TUNED</td>\n      <td>89.600000</td>\n      <td>89.600000</td>\n      <td>1000.417900</td>\n      <td>10</td>\n      <td>85.20</td>\n      <td>85.42</td>\n      <td>1473.24</td>\n      <td>85.20</td>\n      <td>87.22</td>\n      <td>1296.50</td>\n      <td>84.3</td>\n      <td>84.66</td>\n      <td>484.14</td>\n    </tr>\n    <tr>\n      <th>cram</th>\n      <th>30</th>\n      <th>40</th>\n      <th>25</th>\n      <td>RR-MULTI-CROSS-BLOCK-favorCross-SA-TUNED</td>\n      <td>29.400000</td>\n      <td>29.400000</td>\n      <td>965.030500</td>\n      <td>10</td>\n      <td>27.90</td>\n      <td>28.14</td>\n      <td>142.41</td>\n      <td>27.70</td>\n      <td>28.64</td>\n      <td>189.77</td>\n      <td>27.80</td>\n      <td>28.02</td>\n      <td>62.61</td>\n    </tr>\n    <tr>\n      <th>yan</th>\n      <th>8</th>\n      <th>15</th>\n      <th>10</th>\n      <td>RR-MULTI-CROSS-BLOCK-favorCross-SA-TUNED</td>\n      <td>6.833333</td>\n      <td>6.833333</td>\n      <td>7.060067</td>\n      <td>30</td>\n      <td>6.83</td>\n      <td>6.83</td>\n      <td>2.91</td>\n      <td>6.83</td>\n      <td>6.83</td>\n      <td>0.07</td>\n      <td>6.83</td>\n      <td>6.83</td>\n      <td>0.04</td>\n    </tr>\n  </tbody>\n</table>\n</div>"
     },
     "execution_count": 10,
     "metadata": {},
     "output_type": "execute_result"
    }
   ],
   "source": [
    "merged.drop(merged.columns[[4]], axis=1, inplace=True)\n",
    "#print(merged.to_latex(index=True))\n",
    "merged\n",
    "\n",
    "\n",
    "\n"
   ],
   "metadata": {
    "collapsed": false,
    "pycharm": {
     "name": "#%%\n"
    }
   }
  },
  {
   "cell_type": "code",
   "execution_count": 11,
   "outputs": [
    {
     "data": {
      "text/plain": "                                                 run_type    Best_LS  \\\nauthor n  m  C                                                         \ncat    15 20 12  RR-MULTI-CROSS-BLOCK-favorCross-SA-TUNED   7.200000   \n       30 40 17  RR-MULTI-CROSS-BLOCK-favorCross-SA-TUNED  66.700000   \n       40 60 30  RR-MULTI-CROSS-BLOCK-favorCross-SA-TUNED  89.600000   \ncram   30 40 25  RR-MULTI-CROSS-BLOCK-favorCross-SA-TUNED  29.400000   \nyan    8  15 10  RR-MULTI-CROSS-BLOCK-favorCross-SA-TUNED   6.833333   \n\n                    Avg_LS         T_LS   i  Best_ILS  Avg_ILS    T_ILS  \\\nauthor n  m  C                                                            \ncat    15 20 12   7.200000    20.302800  10      7.20     7.20     0.69   \n       30 40 17  66.700000   958.509900  10     65.50    65.82   132.97   \n       40 60 30  89.600000  1000.417900  10     85.20    85.42  1473.24   \ncram   30 40 25  29.400000   965.030500  10     27.90    28.14   142.41   \nyan    8  15 10   6.833333     7.060067  30      6.83     6.83     2.91   \n\n                 Best_DQGA  Avg_DQGA   T_DQGA Best_HGS  Avg_HGS   T_HGS  \\\nauthor n  m  C                                                            \ncat    15 20 12       7.20      7.20     0.90      7.2     7.20    0.60   \n       30 40 17      65.50     66.74   223.35     65.4    65.43   71.77   \n       40 60 30      85.20     87.22  1296.50     84.3    84.66  484.14   \ncram   30 40 25      27.70     28.64   189.77    27.80    28.02   62.61   \nyan    8  15 10       6.83      6.83     0.07     6.83     6.83    0.04   \n\n                 Best_C     T_C  \nauthor n  m  C                   \ncat    15 20 12    7.20    0.60  \n       30 40 17   65.43   71.77  \n       40 60 30   84.66  484.14  \ncram   30 40 25   27.70   62.61  \nyan    8  15 10    6.83    0.04  ",
      "text/html": "<div>\n<style scoped>\n    .dataframe tbody tr th:only-of-type {\n        vertical-align: middle;\n    }\n\n    .dataframe tbody tr th {\n        vertical-align: top;\n    }\n\n    .dataframe thead th {\n        text-align: right;\n    }\n</style>\n<table border=\"1\" class=\"dataframe\">\n  <thead>\n    <tr style=\"text-align: right;\">\n      <th></th>\n      <th></th>\n      <th></th>\n      <th></th>\n      <th>run_type</th>\n      <th>Best_LS</th>\n      <th>Avg_LS</th>\n      <th>T_LS</th>\n      <th>i</th>\n      <th>Best_ILS</th>\n      <th>Avg_ILS</th>\n      <th>T_ILS</th>\n      <th>Best_DQGA</th>\n      <th>Avg_DQGA</th>\n      <th>T_DQGA</th>\n      <th>Best_HGS</th>\n      <th>Avg_HGS</th>\n      <th>T_HGS</th>\n      <th>Best_C</th>\n      <th>T_C</th>\n    </tr>\n    <tr>\n      <th>author</th>\n      <th>n</th>\n      <th>m</th>\n      <th>C</th>\n      <th></th>\n      <th></th>\n      <th></th>\n      <th></th>\n      <th></th>\n      <th></th>\n      <th></th>\n      <th></th>\n      <th></th>\n      <th></th>\n      <th></th>\n      <th></th>\n      <th></th>\n      <th></th>\n      <th></th>\n      <th></th>\n    </tr>\n  </thead>\n  <tbody>\n    <tr>\n      <th rowspan=\"3\" valign=\"top\">cat</th>\n      <th>15</th>\n      <th>20</th>\n      <th>12</th>\n      <td>RR-MULTI-CROSS-BLOCK-favorCross-SA-TUNED</td>\n      <td>7.200000</td>\n      <td>7.200000</td>\n      <td>20.302800</td>\n      <td>10</td>\n      <td>7.20</td>\n      <td>7.20</td>\n      <td>0.69</td>\n      <td>7.20</td>\n      <td>7.20</td>\n      <td>0.90</td>\n      <td>7.2</td>\n      <td>7.20</td>\n      <td>0.60</td>\n      <td>7.20</td>\n      <td>0.60</td>\n    </tr>\n    <tr>\n      <th>30</th>\n      <th>40</th>\n      <th>17</th>\n      <td>RR-MULTI-CROSS-BLOCK-favorCross-SA-TUNED</td>\n      <td>66.700000</td>\n      <td>66.700000</td>\n      <td>958.509900</td>\n      <td>10</td>\n      <td>65.50</td>\n      <td>65.82</td>\n      <td>132.97</td>\n      <td>65.50</td>\n      <td>66.74</td>\n      <td>223.35</td>\n      <td>65.4</td>\n      <td>65.43</td>\n      <td>71.77</td>\n      <td>65.43</td>\n      <td>71.77</td>\n    </tr>\n    <tr>\n      <th>40</th>\n      <th>60</th>\n      <th>30</th>\n      <td>RR-MULTI-CROSS-BLOCK-favorCross-SA-TUNED</td>\n      <td>89.600000</td>\n      <td>89.600000</td>\n      <td>1000.417900</td>\n      <td>10</td>\n      <td>85.20</td>\n      <td>85.42</td>\n      <td>1473.24</td>\n      <td>85.20</td>\n      <td>87.22</td>\n      <td>1296.50</td>\n      <td>84.3</td>\n      <td>84.66</td>\n      <td>484.14</td>\n      <td>84.66</td>\n      <td>484.14</td>\n    </tr>\n    <tr>\n      <th>cram</th>\n      <th>30</th>\n      <th>40</th>\n      <th>25</th>\n      <td>RR-MULTI-CROSS-BLOCK-favorCross-SA-TUNED</td>\n      <td>29.400000</td>\n      <td>29.400000</td>\n      <td>965.030500</td>\n      <td>10</td>\n      <td>27.90</td>\n      <td>28.14</td>\n      <td>142.41</td>\n      <td>27.70</td>\n      <td>28.64</td>\n      <td>189.77</td>\n      <td>27.80</td>\n      <td>28.02</td>\n      <td>62.61</td>\n      <td>27.70</td>\n      <td>62.61</td>\n    </tr>\n    <tr>\n      <th>yan</th>\n      <th>8</th>\n      <th>15</th>\n      <th>10</th>\n      <td>RR-MULTI-CROSS-BLOCK-favorCross-SA-TUNED</td>\n      <td>6.833333</td>\n      <td>6.833333</td>\n      <td>7.060067</td>\n      <td>30</td>\n      <td>6.83</td>\n      <td>6.83</td>\n      <td>2.91</td>\n      <td>6.83</td>\n      <td>6.83</td>\n      <td>0.07</td>\n      <td>6.83</td>\n      <td>6.83</td>\n      <td>0.04</td>\n      <td>6.83</td>\n      <td>0.04</td>\n    </tr>\n  </tbody>\n</table>\n</div>"
     },
     "execution_count": 11,
     "metadata": {},
     "output_type": "execute_result"
    }
   ],
   "source": [
    "#keep min value and add the percentage difference\n",
    "col = ['n',\n",
    "                    'm',\n",
    "                    'C',\n",
    "                    'i',\n",
    "                    'Best_ILS',\n",
    "                    'Avg_ILS',\n",
    "                    'T_ILS',\n",
    "                    'Best_DQGA',\n",
    "                    'Avg_DQGA',\n",
    "                    'T_DQGA',\n",
    "                    'Best_HGS',\n",
    "                    'Avg_HGS',\n",
    "                    'T_HGS'\n",
    "                    ]\n",
    "\n",
    "\n",
    "min_sw_col = ['Best_ILS','Avg_ILS','Best_DQGA','Avg_DQGA','Best_HGS','Avg_HGS']\n",
    "min_t_col = ['T_ILS','T_DQGA','T_HGS']\n",
    "\n",
    "merged['Best_C'] = merged[min_sw_col].min(axis=1)\n",
    "merged['T_C'] = merged[min_t_col].min(axis=1)\n",
    "\n",
    "\n",
    "merged"
   ],
   "metadata": {
    "collapsed": false,
    "pycharm": {
     "name": "#%%\n"
    }
   }
  },
  {
   "cell_type": "code",
   "execution_count": 12,
   "outputs": [
    {
     "data": {
      "text/plain": "                                                 run_type    Best_LS  \\\nauthor n  m  C                                                         \ncat    15 20 12  RR-MULTI-CROSS-BLOCK-favorCross-SA-TUNED   7.200000   \n       30 40 17  RR-MULTI-CROSS-BLOCK-favorCross-SA-TUNED  66.700000   \n       40 60 30  RR-MULTI-CROSS-BLOCK-favorCross-SA-TUNED  89.600000   \ncram   30 40 25  RR-MULTI-CROSS-BLOCK-favorCross-SA-TUNED  29.400000   \nyan    8  15 10  RR-MULTI-CROSS-BLOCK-favorCross-SA-TUNED   6.833333   \n\n                    Avg_LS         T_LS   i  Best_C     T_C  \nauthor n  m  C                                               \ncat    15 20 12   7.200000    20.302800  10    7.20    0.60  \n       30 40 17  66.700000   958.509900  10   65.43   71.77  \n       40 60 30  89.600000  1000.417900  10   84.66  484.14  \ncram   30 40 25  29.400000   965.030500  10   27.70   62.61  \nyan    8  15 10   6.833333     7.060067  30    6.83    0.04  ",
      "text/html": "<div>\n<style scoped>\n    .dataframe tbody tr th:only-of-type {\n        vertical-align: middle;\n    }\n\n    .dataframe tbody tr th {\n        vertical-align: top;\n    }\n\n    .dataframe thead th {\n        text-align: right;\n    }\n</style>\n<table border=\"1\" class=\"dataframe\">\n  <thead>\n    <tr style=\"text-align: right;\">\n      <th></th>\n      <th></th>\n      <th></th>\n      <th></th>\n      <th>run_type</th>\n      <th>Best_LS</th>\n      <th>Avg_LS</th>\n      <th>T_LS</th>\n      <th>i</th>\n      <th>Best_C</th>\n      <th>T_C</th>\n    </tr>\n    <tr>\n      <th>author</th>\n      <th>n</th>\n      <th>m</th>\n      <th>C</th>\n      <th></th>\n      <th></th>\n      <th></th>\n      <th></th>\n      <th></th>\n      <th></th>\n      <th></th>\n    </tr>\n  </thead>\n  <tbody>\n    <tr>\n      <th rowspan=\"3\" valign=\"top\">cat</th>\n      <th>15</th>\n      <th>20</th>\n      <th>12</th>\n      <td>RR-MULTI-CROSS-BLOCK-favorCross-SA-TUNED</td>\n      <td>7.200000</td>\n      <td>7.200000</td>\n      <td>20.302800</td>\n      <td>10</td>\n      <td>7.20</td>\n      <td>0.60</td>\n    </tr>\n    <tr>\n      <th>30</th>\n      <th>40</th>\n      <th>17</th>\n      <td>RR-MULTI-CROSS-BLOCK-favorCross-SA-TUNED</td>\n      <td>66.700000</td>\n      <td>66.700000</td>\n      <td>958.509900</td>\n      <td>10</td>\n      <td>65.43</td>\n      <td>71.77</td>\n    </tr>\n    <tr>\n      <th>40</th>\n      <th>60</th>\n      <th>30</th>\n      <td>RR-MULTI-CROSS-BLOCK-favorCross-SA-TUNED</td>\n      <td>89.600000</td>\n      <td>89.600000</td>\n      <td>1000.417900</td>\n      <td>10</td>\n      <td>84.66</td>\n      <td>484.14</td>\n    </tr>\n    <tr>\n      <th>cram</th>\n      <th>30</th>\n      <th>40</th>\n      <th>25</th>\n      <td>RR-MULTI-CROSS-BLOCK-favorCross-SA-TUNED</td>\n      <td>29.400000</td>\n      <td>29.400000</td>\n      <td>965.030500</td>\n      <td>10</td>\n      <td>27.70</td>\n      <td>62.61</td>\n    </tr>\n    <tr>\n      <th>yan</th>\n      <th>8</th>\n      <th>15</th>\n      <th>10</th>\n      <td>RR-MULTI-CROSS-BLOCK-favorCross-SA-TUNED</td>\n      <td>6.833333</td>\n      <td>6.833333</td>\n      <td>7.060067</td>\n      <td>30</td>\n      <td>6.83</td>\n      <td>0.04</td>\n    </tr>\n  </tbody>\n</table>\n</div>"
     },
     "execution_count": 12,
     "metadata": {},
     "output_type": "execute_result"
    }
   ],
   "source": [
    "\n",
    "merged.drop(min_sw_col,axis=1, inplace=True)\n",
    "merged.drop(min_t_col, axis=1, inplace=True)\n",
    "merged\n"
   ],
   "metadata": {
    "collapsed": false,
    "pycharm": {
     "name": "#%%\n"
    }
   }
  },
  {
   "cell_type": "code",
   "execution_count": 13,
   "outputs": [
    {
     "data": {
      "text/plain": "'author,n,m,C,run_type,Best_LS,Avg_LS,T_LS,i,Best_C,T_C,Best_DIF,T_DIF\\ncat,15,20,12,RR-MULTI-CROSS-BLOCK-favorCross-SA-TUNED,7.2,7.2,20.302799999999998,10,7.2,0.6,0.0,-3283.8\\ncat,30,40,17,RR-MULTI-CROSS-BLOCK-favorCross-SA-TUNED,66.7,66.7,958.5099,10,65.43,71.77,-1.9410056548983645,-1235.530026473457\\ncat,40,60,30,RR-MULTI-CROSS-BLOCK-favorCross-SA-TUNED,89.6,89.6,1000.4179,10,84.66,484.14,-5.835105126387896,-106.63814185979264\\ncram,30,40,25,RR-MULTI-CROSS-BLOCK-favorCross-SA-TUNED,29.4,29.4,965.0305000000001,10,27.7,62.61,-6.137184115523464,-1441.336048554544\\nyan,8,15,10,RR-MULTI-CROSS-BLOCK-favorCross-SA-TUNED,6.833333333333333,6.833333333333333,7.060066666666668,30,6.83,0.04,-0.048804294777937685,-17550.166666666668\\n'"
     },
     "execution_count": 13,
     "metadata": {},
     "output_type": "execute_result"
    }
   ],
   "source": [
    "merged['Best_DIF'] = (1 - ( merged['Best_LS'] / merged['Best_C'])) * 100\n",
    "merged['T_DIF'] = ( 1 -  (merged['T_LS'] / merged['T_C'] ) ) * 100\n",
    "merged\n",
    "\n",
    "\n",
    "merged.to_csv()"
   ],
   "metadata": {
    "collapsed": false,
    "pycharm": {
     "name": "#%%\n"
    }
   }
  }
 ],
 "metadata": {
  "kernelspec": {
   "display_name": "Python 3",
   "language": "python",
   "name": "python3"
  },
  "language_info": {
   "codemirror_mode": {
    "name": "ipython",
    "version": 3
   },
   "file_extension": ".py",
   "mimetype": "text/x-python",
   "name": "python",
   "nbconvert_exporter": "python",
   "pygments_lexer": "ipython3",
   "version": "3.7.6"
  },
  "pycharm": {
   "stem_cell": {
    "cell_type": "raw",
    "source": [],
    "metadata": {
     "collapsed": false
    }
   }
  }
 },
 "nbformat": 4,
 "nbformat_minor": 1
}