{
 "cells": [
  {
   "cell_type": "code",
   "execution_count": 5,
   "metadata": {
    "pycharm": {
     "is_executing": false,
     "name": "#%%\n"
    }
   },
   "outputs": [],
   "source": [
    "import pandas as pd\n",
    "import numpy as np\n",
    "import os.path as path\n",
    "from ssp_dashboard.instance import Instance, InstanceGroup, LiveInstance, InstanceCollector, InstanceCollection, Lookup\n",
    "\n",
    "root_dp = \"/Users/simonvermeir/Documents/industrial-engineering/SchoolCurrent/MasterProef/Master-Thesis-SSP\"\n",
    "instance = \"\"\n",
    "\n",
    "\n",
    "desc = {\n",
    "    \"original\": \"paiva\",\n",
    "    \"root_folder\": \"yanasse\",\n",
    "    \"instance\": \"yan_5_6_3_1\",\n",
    "    \"author\": \"yan\",\n",
    "    \"n_jobs\": 5,\n",
    "    \"n_tools\": 6,\n",
    "    \"magazine_size\": 3,\n",
    "    \"variation\": 1\n",
    "}\n",
    "        \n",
    "\n",
    "lookUp = Lookup()\n",
    "instances = lookUp.get_instances_desc(desc, \"TEST\", solution_only=False)\n",
    "\n",
    "instance: Instance = instances[0]"
   ]
  },
  {
   "cell_type": "code",
   "execution_count": 22,
   "outputs": [
    {
     "data": {
      "text/plain": "   0  1  2  3  4\n0  1  1  0  0  1\n1  1  0  0  1  0\n2  0  1  1  1  0\n3  1  0  1  0  1\n4  0  0  1  1  0\n5  0  0  0  0  1",
      "text/html": "<div>\n<style scoped>\n    .dataframe tbody tr th:only-of-type {\n        vertical-align: middle;\n    }\n\n    .dataframe tbody tr th {\n        vertical-align: top;\n    }\n\n    .dataframe thead th {\n        text-align: right;\n    }\n</style>\n<table border=\"1\" class=\"dataframe\">\n  <thead>\n    <tr style=\"text-align: right;\">\n      <th></th>\n      <th>0</th>\n      <th>1</th>\n      <th>2</th>\n      <th>3</th>\n      <th>4</th>\n    </tr>\n  </thead>\n  <tbody>\n    <tr>\n      <th>0</th>\n      <td>1</td>\n      <td>1</td>\n      <td>0</td>\n      <td>0</td>\n      <td>1</td>\n    </tr>\n    <tr>\n      <th>1</th>\n      <td>1</td>\n      <td>0</td>\n      <td>0</td>\n      <td>1</td>\n      <td>0</td>\n    </tr>\n    <tr>\n      <th>2</th>\n      <td>0</td>\n      <td>1</td>\n      <td>1</td>\n      <td>1</td>\n      <td>0</td>\n    </tr>\n    <tr>\n      <th>3</th>\n      <td>1</td>\n      <td>0</td>\n      <td>1</td>\n      <td>0</td>\n      <td>1</td>\n    </tr>\n    <tr>\n      <th>4</th>\n      <td>0</td>\n      <td>0</td>\n      <td>1</td>\n      <td>1</td>\n      <td>0</td>\n    </tr>\n    <tr>\n      <th>5</th>\n      <td>0</td>\n      <td>0</td>\n      <td>0</td>\n      <td>0</td>\n      <td>1</td>\n    </tr>\n  </tbody>\n</table>\n</div>"
     },
     "metadata": {},
     "output_type": "execute_result",
     "execution_count": 22
    }
   ],
   "source": [
    "df = pd.DataFrame(instance.problem[\"matrix\"])\n",
    "df = df.T\n",
    "\n",
    "\n",
    "df"
   ],
   "metadata": {
    "collapsed": false,
    "pycharm": {
     "name": "#%%\n",
     "is_executing": false
    }
   }
  },
  {
   "cell_type": "code",
   "execution_count": 24,
   "outputs": [
    {
     "name": "stdout",
     "text": [
      "\\begin{tabular}{lrrrrr}\n",
      "\\toprule\n",
      "{} &  0 &  1 &  2 &  3 &  4 \\\\\n",
      "\\midrule\n",
      "0 &  1 &  1 &  0 &  0 &  1 \\\\\n",
      "1 &  1 &  0 &  0 &  1 &  0 \\\\\n",
      "2 &  0 &  1 &  1 &  1 &  0 \\\\\n",
      "3 &  1 &  0 &  1 &  0 &  1 \\\\\n",
      "4 &  0 &  0 &  1 &  1 &  0 \\\\\n",
      "5 &  0 &  0 &  0 &  0 &  1 \\\\\n",
      "\\bottomrule\n",
      "\\end{tabular}\n",
      "\n"
     ],
     "output_type": "stream"
    }
   ],
   "source": [
    "print(df.to_latex())"
   ],
   "metadata": {
    "collapsed": false,
    "pycharm": {
     "name": "#%%\n",
     "is_executing": false
    }
   }
  }
 ],
 "metadata": {
  "kernelspec": {
   "display_name": "Python 3",
   "language": "python",
   "name": "python3"
  },
  "language_info": {
   "codemirror_mode": {
    "name": "ipython",
    "version": 3
   },
   "file_extension": ".py",
   "mimetype": "text/x-python",
   "name": "python",
   "nbconvert_exporter": "python",
   "pygments_lexer": "ipython3",
   "version": "3.7.6"
  },
  "pycharm": {
   "stem_cell": {
    "cell_type": "raw",
    "source": [],
    "metadata": {
     "collapsed": false
    }
   }
  }
 },
 "nbformat": 4,
 "nbformat_minor": 1
}